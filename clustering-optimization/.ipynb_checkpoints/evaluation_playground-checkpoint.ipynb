{
 "cells": [
  {
   "cell_type": "code",
   "execution_count": 1,
   "metadata": {},
   "outputs": [],
   "source": [
    "import src.glossary_terms_extractor as gtee\n",
    "import src.evaluation_switch as eval_switch\n",
    "import src.clustering_omega_evaluation as coe\n",
    "import matplotlib.pyplot as plt\n",
    "import pprint\n",
    "pp = pprint.PrettyPrinter()"
   ]
  },
  {
   "cell_type": "markdown",
   "metadata": {},
   "source": [
    "### Extract glossary terms and define gold list"
   ]
  },
  {
   "cell_type": "code",
   "execution_count": 2,
   "metadata": {},
   "outputs": [],
   "source": [
    "REQS = 'data/opencoss_reqs.txt'\n",
    "GOLD_GLOSSAR = 'evaluation/GOLD_GLOSSAR_OPENCOSS.txt'\n",
    "GROUND_TRUTH = 'evaluation/GROUND_TRUTH_OPENCOSS.csv'"
   ]
  },
  {
   "cell_type": "code",
   "execution_count": 3,
   "metadata": {},
   "outputs": [],
   "source": [
    "def find_glossary_terms():\n",
    "    gte = gtee.GlossaryTermsExtractor(filter_terms=True)\n",
    "    gte.requirements = [x[:-1] for x in open(REQS).readlines()]\n",
    "    gte.gold_list = [x[:-1] for x in open(GOLD_GLOSSAR).readlines()]\n",
    "    # find glossary terms\n",
    "    gte.fit()\n",
    "    return gte"
   ]
  },
  {
   "cell_type": "code",
   "execution_count": 4,
   "metadata": {},
   "outputs": [],
   "source": [
    "def evaluate(algorithm,\n",
    "             embedding,\n",
    "             ground_truth: str,\n",
    "             threshold=None,\n",
    "             number_of_clusters=None,\n",
    "             calculate_recall=False,\n",
    "             plot_ahc=False,\n",
    "             verbose=False) -> list:\n",
    "    \"\"\"\n",
    "    Evaluates the chosen embedding and clustering technique with the omega score.\n",
    "    Optionally computes recall and plots AHC dendrogram.\n",
    "\n",
    "    Returns the resulting omega score.\n",
    "    \"\"\"\n",
    "    es = eval_switch.EvaluationSwitch(gte,\n",
    "                                      threshold=threshold,\n",
    "                                      number_of_clusters=number_of_clusters,\n",
    "                                      plot_ahc=plot_ahc)\n",
    "\n",
    "    es.switch(algorithm, embedding)\n",
    "    es.fit()\n",
    "    obtained_clusters = es.obtained\n",
    "    # display(obtained_clusters)\n",
    "\n",
    "    oe = coe.OmegaEvaluator(\n",
    "        ground_truth,\n",
    "        GOLD_GLOSSAR,\n",
    "        gte\n",
    "    )\n",
    "    if calculate_recall:\n",
    "        recall = oe.recall\n",
    "        print('\\nRecall= ' + recall + '%\\n')\n",
    "    oe.obtained = obtained_clusters\n",
    "    # print(oe.ground_truth)\n",
    "    omega = oe.omega_index_\n",
    "    if verbose:\n",
    "        print(f'Omega Index for {algorithm} and {embedding} is {omega}.')\n",
    "    return [omega, obtained_clusters]"
   ]
  },
  {
   "cell_type": "code",
   "execution_count": 5,
   "metadata": {},
   "outputs": [],
   "source": [
    "def plot_threshold_omega(ground_truth: str,\n",
    "                         max_t: int,\n",
    "                         algorithm: str,\n",
    "                         embedding: str) -> float:\n",
    "    \"\"\"\n",
    "    Plots the chosen AHC distance threshold versus the obtained omega index for a certain\n",
    "    threshold range based on the given ground truth.\n",
    "\n",
    "    Returns the optimal (maximal) omega value.\n",
    "    \"\"\"\n",
    "    omegas = []\n",
    "    clusters_result = []\n",
    "    for t in range(5, max_t):\n",
    "        out = evaluate(algorithm,\n",
    "                       embedding,\n",
    "                       ground_truth,\n",
    "                       threshold=t / 1000,\n",
    "                       calculate_recall=False,\n",
    "                       verbose=False)\n",
    "        omegas.append(out[0])\n",
    "        clusters_result.append(out[1])\n",
    "        print(f'Testing for a threshold from .005 to .{max_t - 1} ... {round((t - 4) / (max_t - 5) * 100, 2)}' + '%',\n",
    "              end='\\r')\n",
    "    plt.plot([x / 1000 for x in range(5, max_t)], omegas)\n",
    "    plt.title(\n",
    "        '{0} distance threshold vs Omega score \\n b/w Ideal and Obtained Clusters for {1} embeddings'.format(algorithm,\n",
    "                                                                                                             embedding))\n",
    "    plt.xlabel('Threshold')\n",
    "    plt.ylabel('Omega Index')\n",
    "    plt.show()\n",
    "    winner_clusters_config = clusters_result[max(enumerate(omegas), key=lambda x: x[1])[0]]\n",
    "    print(f'The highest omega index obtained was: {max(omegas)} for the clustering result:\\n')\n",
    "    pp.pprint(winner_clusters_config)\n",
    "    return max(omegas)"
   ]
  },
  {
   "cell_type": "code",
   "execution_count": 6,
   "metadata": {},
   "outputs": [],
   "source": [
    "def plot_n_clusters_omega(ground_truth: str,\n",
    "                          max_n: int,\n",
    "                          algorithm: str,\n",
    "                          embedding: str) -> float:\n",
    "    \"\"\"\n",
    "    Plots the chosen number of clusters versus the obtained omega index for a certain\n",
    "    range of numbers of clusters based on the given ground truth.\n",
    "\n",
    "    Returns the optimal (maximal) omega value.\n",
    "    \"\"\"\n",
    "    omegas = []\n",
    "    clusters_result = []\n",
    "    for n in range(1, max_n):\n",
    "        out = evaluate(algorithm,\n",
    "                       embedding,\n",
    "                       ground_truth,\n",
    "                       number_of_clusters=n,\n",
    "                       calculate_recall=False,\n",
    "                       verbose=False)\n",
    "        omegas.append(out[0])\n",
    "        clusters_result.append(out[1])\n",
    "        print(\n",
    "            f'Testing for a number of clusters from 1 to {max_n - 1} ... {round((n - 0) / (max_n - 1) * 100, 2)}' + '%',\n",
    "            end='\\r')\n",
    "    plt.plot([x for x in range(1, max_n)], omegas)\n",
    "    plt.title(\n",
    "        '{0} number of clusters vs Omega score \\n b/w Ideal and Obtained Clusters for {1} embeddings'.format(algorithm,\n",
    "                                                                                                             embedding))\n",
    "    plt.xlabel('Number of clusters')\n",
    "    plt.ylabel('Omega Index')\n",
    "    plt.show()\n",
    "    winner_clusters_config = clusters_result[max(enumerate(omegas), key=lambda x: x[1])[0]]\n",
    "    print(f'The highest omega index obtained was: {max(omegas)} for the clustering result:\\n')\n",
    "    pp.pprint(winner_clusters_config)\n",
    "    return max(omegas)"
   ]
  },
  {
   "cell_type": "code",
   "execution_count": 7,
   "metadata": {},
   "outputs": [],
   "source": [
    "gte = find_glossary_terms()"
   ]
  },
  {
   "cell_type": "markdown",
   "metadata": {},
   "source": [
    "### Find the threshold that maximizes Omega Index between *Ideal Keyword Clusters* and *Obtained* for **AHC** and **bert**"
   ]
  },
  {
   "cell_type": "code",
   "execution_count": null,
   "metadata": {},
   "outputs": [],
   "source": [
    "ahc_omega = plot_threshold_omega(GROUND_TRUTH, \n",
    "                                 230, \n",
    "                                'agglomerative-hierarchical-clustering',\n",
    "                                'bert')"
   ]
  },
  {
   "cell_type": "markdown",
   "metadata": {},
   "source": [
    "### Find the threshold that maximizes Omega Index between *Ideal Paper Clusters* and *Obtained* for **AHC** and **bert**"
   ]
  },
  {
   "cell_type": "code",
   "execution_count": null,
   "metadata": {},
   "outputs": [],
   "source": [
    "ahc_omega_paper = plot_threshold_omega('evaluation/GROUND_TRUTH_OPENCOSS_PAPER.csv', \n",
    "                                       230,\n",
    "                                      'agglomerative-hierarchical-clustering',\n",
    "                                      'bert')"
   ]
  },
  {
   "cell_type": "markdown",
   "metadata": {},
   "source": [
    "### Find the threshold that maximizes Omega Index between *Ideal Paper Clusters* and *Obtained* for **AHC** and **Co-occurrence**"
   ]
  },
  {
   "cell_type": "code",
   "execution_count": null,
   "metadata": {},
   "outputs": [],
   "source": [
    "ahc_omega_paper = plot_threshold_omega('evaluation/GROUND_TRUTH_OPENCOSS_PAPER.csv', \n",
    "                                       300,\n",
    "                                      'agglomerative-hierarchical-clustering',\n",
    "                                      'co-occurrence')"
   ]
  },
  {
   "cell_type": "markdown",
   "metadata": {},
   "source": [
    "### Find the threshold that maximizes Omega Index between *Ideal Keyword Clusters* and *Obtained* for **AHC** and **Co-occurrence**"
   ]
  },
  {
   "cell_type": "code",
   "execution_count": null,
   "metadata": {},
   "outputs": [],
   "source": [
    "ahc_omega_coocc = plot_threshold_omega(GROUND_TRUTH, \n",
    "                                       510,\n",
    "                                      'agglomerative-hierarchical-clustering',\n",
    "                                      'co-occurrence')\n"
   ]
  },
  {
   "cell_type": "markdown",
   "metadata": {},
   "source": [
    "### Find the threshold that maximizes Omega Index between *Ideal Keyword Clusters* and *Obtained* for **C-Means** and **Co-occurrence**"
   ]
  },
  {
   "cell_type": "code",
   "execution_count": null,
   "metadata": {},
   "outputs": [],
   "source": [
    "c_means_omega_coocc = plot_n_clusters_omega(GROUND_TRUTH,\n",
    "                                            400,\n",
    "                                            'c-means',\n",
    "                                            'co-occurrence')"
   ]
  },
  {
   "cell_type": "markdown",
   "metadata": {},
   "source": [
    "### Find the threshold that maximizes Omega Index between *Ideal Keyword Clusters* and *Obtained* for **C-Means** and **bert**"
   ]
  },
  {
   "cell_type": "code",
   "execution_count": null,
   "metadata": {},
   "outputs": [],
   "source": [
    "c_means_omega_coocc = plot_n_clusters_omega(GROUND_TRUTH,\n",
    "                                            400,\n",
    "                                            'c-means',\n",
    "                                            'bert')"
   ]
  },
  {
   "cell_type": "markdown",
   "metadata": {},
   "source": [
    "### Find the threshold that maximizes Omega Index between *Ideal Paper Clusters* and *Obtained* for **C-Means** and **Co-occurrence**"
   ]
  },
  {
   "cell_type": "code",
   "execution_count": null,
   "metadata": {},
   "outputs": [],
   "source": [
    "c_means_omega_coocc = plot_n_clusters_omega('evaluation/GROUND_TRUTH_OPENCOSS_PAPER.csv',\n",
    "                                            400,\n",
    "                                            'c-means',\n",
    "                                            'co-occurrence')"
   ]
  },
  {
   "cell_type": "markdown",
   "metadata": {},
   "source": [
    "### Find the threshold that maximizes Omega Index between *Ideal Paper Clusters* and *Obtained* for **Keyword Clustering** (OPENCOSS)"
   ]
  },
  {
   "cell_type": "code",
   "execution_count": null,
   "metadata": {},
   "outputs": [],
   "source": [
    "kc_omega = evaluate('keyword-clustering', None, 'evaluation/GROUND_TRUTH_OPENCOSS_PAPER.csv')\n",
    "print(kc_omega[0])"
   ]
  },
  {
   "cell_type": "code",
   "execution_count": null,
   "metadata": {},
   "outputs": [],
   "source": [
    "kc_omega = evaluate('keyword-clustering', None, GROUND_TRUTH)\n",
    "print(kc_omega[0])"
   ]
  }
 ],
 "metadata": {
  "kernelspec": {
   "display_name": "Python 3",
   "language": "python",
   "name": "python3"
  },
  "language_info": {
   "codemirror_mode": {
    "name": "ipython",
    "version": 3
   },
   "file_extension": ".py",
   "mimetype": "text/x-python",
   "name": "python",
   "nbconvert_exporter": "python",
   "pygments_lexer": "ipython3",
   "version": "3.7.9"
  }
 },
 "nbformat": 4,
 "nbformat_minor": 1
}
